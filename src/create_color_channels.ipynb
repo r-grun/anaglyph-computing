{
 "cells": [
  {
   "cell_type": "code",
   "execution_count": 1,
   "id": "initial_id",
   "metadata": {
    "collapsed": true,
    "ExecuteTime": {
     "end_time": "2024-06-05T15:48:04.859509Z",
     "start_time": "2024-06-05T15:48:03.687618Z"
    }
   },
   "outputs": [],
   "source": [
    "import cv2\n",
    "import numpy as np\n",
    "import os"
   ]
  },
  {
   "cell_type": "markdown",
   "source": [
    "## Create red + cyan color channel images\n"
   ],
   "metadata": {
    "collapsed": false
   },
   "id": "bb1503b3e13f3880"
  },
  {
   "cell_type": "code",
   "outputs": [],
   "source": [
    "def create_color_channel_images(img):\n",
    "    # Get the dimensions of the image\n",
    "    height, width, _ = img.shape\n",
    "\n",
    "    # Split the image into left and right halves\n",
    "    left_half = img[:, :width//2]\n",
    "    right_half = img[:, width//2:]\n",
    "\n",
    "    # Create zero matrices with the same dimensions as the halves of the image\n",
    "    zeros_left = np.zeros_like(left_half)\n",
    "    zeros_right = np.zeros_like(right_half)\n",
    "\n",
    "    # Split the halves of the image into the B, G, R channels\n",
    "    b_left, g_left, r_left = cv2.split(left_half)\n",
    "    b_right, g_right, r_right = cv2.split(right_half)\n",
    "\n",
    "    # Merge the B, G, R channels to create the red channel image for the left half\n",
    "    red_channel_img = cv2.merge([zeros_left[:,:,0], zeros_left[:,:,1], r_left])\n",
    "\n",
    "    # Merge the B, G, R channels to create the cyan channel image for the right half\n",
    "    cyan_channel_img = cv2.merge([b_right, g_right, zeros_right[:,:,2]])\n",
    "\n",
    "    return (red_channel_img, cyan_channel_img)\n"
   ],
   "metadata": {
    "collapsed": false,
    "ExecuteTime": {
     "end_time": "2024-06-05T15:56:08.947778Z",
     "start_time": "2024-06-05T15:56:08.927944Z"
    }
   },
   "id": "dff5aeeac956b91",
   "execution_count": 9
  },
  {
   "cell_type": "code",
   "outputs": [
    {
     "data": {
      "text/plain": "True"
     },
     "execution_count": 10,
     "metadata": {},
     "output_type": "execute_result"
    }
   ],
   "source": [
    "INPUT_IMAGE_PATH = '../data/-L__FQPcBiiKqaT1CFyS.jpg'\n",
    "OUTPUT_IMAGE_DIR = '../output/'\n",
    "\n",
    "# Read the image\n",
    "img = cv2.imread(INPUT_IMAGE_PATH)\n",
    "\n",
    "red_channel_img, cyan_channel_img = create_color_channel_images(img)\n",
    "\n",
    "# Get the base name of the input image\n",
    "base_name = os.path.splitext(os.path.basename(INPUT_IMAGE_PATH))[0]\n",
    "\n",
    "# Save the red and cyan channel images\n",
    "cv2.imwrite(f'{OUTPUT_IMAGE_DIR}{base_name}_red.jpg', red_channel_img)\n",
    "cv2.imwrite(f'{OUTPUT_IMAGE_DIR}{base_name}_cyan.jpg', cyan_channel_img)"
   ],
   "metadata": {
    "collapsed": false,
    "ExecuteTime": {
     "end_time": "2024-06-05T15:56:10.406216Z",
     "start_time": "2024-06-05T15:56:10.164575Z"
    }
   },
   "id": "4f357dfa8792b526",
   "execution_count": 10
  },
  {
   "cell_type": "markdown",
   "source": [
    "# Create inverse anaglyph"
   ],
   "metadata": {
    "collapsed": false
   },
   "id": "f7635aec8f62fcb8"
  },
  {
   "cell_type": "code",
   "outputs": [],
   "source": [
    "def crete_inverse_anaglyph(img):\n",
    "    # Get the dimensions of the image\n",
    "    height, width, _ = img.shape\n",
    "\n",
    "    # Split the image into left and right halves\n",
    "    left_half = img[:, :width//2]\n",
    "    right_half = img[:, width//2:]\n",
    "\n",
    "    # Create zero matrices with the same dimensions as the halves of the image\n",
    "    zeros_left = np.zeros_like(left_half)\n",
    "    zeros_right = np.zeros_like(right_half)\n",
    "\n",
    "    # Split the halves of the image into the B, G, R channels\n",
    "    b_left, g_left, r_left = cv2.split(left_half)\n",
    "    b_right, g_right, r_right = cv2.split(right_half)\n",
    "\n",
    "    # Merge the B, G, R channels to create inverse anaglyph\n",
    "    inverse_anaglyph_img = cv2.merge([b_left, g_left, r_right])\n",
    "\n",
    "    return inverse_anaglyph_img\n"
   ],
   "metadata": {
    "collapsed": false,
    "ExecuteTime": {
     "end_time": "2024-06-05T16:03:45.014454Z",
     "start_time": "2024-06-05T16:03:45.002001Z"
    }
   },
   "id": "8aed6932f7a2398",
   "execution_count": 11
  },
  {
   "cell_type": "code",
   "outputs": [
    {
     "data": {
      "text/plain": "True"
     },
     "execution_count": 12,
     "metadata": {},
     "output_type": "execute_result"
    }
   ],
   "source": [
    "INPUT_IMAGE_PATH = '../data/-L__FQPcBiiKqaT1CFyS.jpg'\n",
    "OUTPUT_IMAGE_DIR = '../output/'\n",
    "\n",
    "# Read the image\n",
    "img = cv2.imread(INPUT_IMAGE_PATH)\n",
    "\n",
    "inverse_anaglyph_img = crete_inverse_anaglyph(img)\n",
    "\n",
    "# Get the base name of the input image\n",
    "base_name = os.path.splitext(os.path.basename(INPUT_IMAGE_PATH))[0]\n",
    "\n",
    "# Save the red and cyan channel images\n",
    "cv2.imwrite(f'{OUTPUT_IMAGE_DIR}{base_name}_inverse_anaglyph.jpg', inverse_anaglyph_img)"
   ],
   "metadata": {
    "collapsed": false,
    "ExecuteTime": {
     "end_time": "2024-06-05T16:03:47.428668Z",
     "start_time": "2024-06-05T16:03:47.281271Z"
    }
   },
   "id": "4c89a4c1ba8ba538",
   "execution_count": 12
  }
 ],
 "metadata": {
  "kernelspec": {
   "display_name": "Python 3",
   "language": "python",
   "name": "python3"
  },
  "language_info": {
   "codemirror_mode": {
    "name": "ipython",
    "version": 2
   },
   "file_extension": ".py",
   "mimetype": "text/x-python",
   "name": "python",
   "nbconvert_exporter": "python",
   "pygments_lexer": "ipython2",
   "version": "2.7.6"
  }
 },
 "nbformat": 4,
 "nbformat_minor": 5
}
