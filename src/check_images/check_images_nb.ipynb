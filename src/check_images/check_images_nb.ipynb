{
 "cells": [
  {
   "metadata": {},
   "cell_type": "markdown",
   "source": "# Count images in directory that have less than 7 parts",
   "id": "db1f175dfe83c4a4"
  },
  {
   "cell_type": "code",
   "id": "initial_id",
   "metadata": {
    "collapsed": true,
    "ExecuteTime": {
     "end_time": "2024-11-06T13:39:33.689394Z",
     "start_time": "2024-11-06T13:39:33.675425Z"
    }
   },
   "source": [
    "import os\n",
    "from collections import defaultdict\n",
    "from tqdm import tqdm\n",
    "\n",
    "TARGET_DIRECTORY = 'E:/Programming/HAW/Grundprojekt/anaglyph-computing/data/data/anaglyph'\n",
    "OUTPUT_FILE = 'images_with_less_than_7_copies.txt'\n",
    "\n",
    "def get_image_prefix(filename):\n",
    "    base_name = filename.split('.')[0]\n",
    "    prefix = base_name.split('_')[0]\n",
    "    return prefix\n",
    "\n",
    "def count_image_copies(directory):\n",
    "    prefix_count = defaultdict(int)\n",
    "    files = [f for f in os.listdir(directory) if f.endswith('.jpg')]\n",
    "    with tqdm(total=len(files), desc=\"Scanning images\", unit=\"file\") as pbar:\n",
    "        for filename in files:\n",
    "            prefix = get_image_prefix(filename)\n",
    "            prefix_count[prefix] += 1\n",
    "            pbar.update(1)\n",
    "    return prefix_count, files\n",
    "\n",
    "def write_images_with_less_than_7_copies(prefix_count, files, output_file):\n",
    "    with open(output_file, 'w') as file:\n",
    "        for filename in files:\n",
    "            prefix = get_image_prefix(filename)\n",
    "            if prefix_count[prefix] < 7:\n",
    "                file.write(f\"{filename}\\n\")\n",
    "\n",
    "if __name__ == \"__main__\":\n",
    "    prefix_count, files = count_image_copies(TARGET_DIRECTORY)\n",
    "    write_images_with_less_than_7_copies(prefix_count, files, OUTPUT_FILE)\n",
    "    print(f\"Images with less than 7 copies have been written to {OUTPUT_FILE}\")\n",
    "    \n",
    "    # Print the number of copies for each prefix with less than 7 copies\n",
    "    for prefix, count in prefix_count.items():\n",
    "        if count < 7:\n",
    "            print(f\"Prefix: {prefix}, Copies: {count}\")"
   ],
   "outputs": [
    {
     "name": "stderr",
     "output_type": "stream",
     "text": [
      "Scanning images: 100%|██████████| 9/9 [00:00<?, ?file/s]"
     ]
    },
    {
     "name": "stdout",
     "output_type": "stream",
     "text": [
      "Images with less than 7 copies have been written to images_with_less_than_7_copies.txt\n",
      "Prefix: aaa, Copies: 2\n"
     ]
    },
    {
     "name": "stderr",
     "output_type": "stream",
     "text": [
      "\n"
     ]
    }
   ],
   "execution_count": 14
  },
  {
   "metadata": {},
   "cell_type": "markdown",
   "source": "# Delete images listed in 'images_with_less_than_7_copies.txt' from the target directory",
   "id": "1122e0930f53a42f"
  },
  {
   "metadata": {},
   "cell_type": "code",
   "outputs": [],
   "execution_count": null,
   "source": [
    "import os\n",
    "\n",
    "TARGET_DIRECTORY = 'E:/Programming/HAW/Grundprojekt/anaglyph-computing/data/data/anaglyph'\n",
    "INPUT_FILE = 'images_with_less_than_7_copies.txt'\n",
    "\n",
    "def delete_images_from_file(directory, input_file):\n",
    "    with open(input_file, 'r') as file:\n",
    "        images_to_delete = file.readlines()\n",
    "    \n",
    "    for image in images_to_delete:\n",
    "        image = image.strip()\n",
    "        image_path = os.path.join(directory, image)\n",
    "        if os.path.exists(image_path):\n",
    "            os.remove(image_path)\n",
    "            print(f\"Deleted: {image_path}\")\n",
    "        else:\n",
    "            print(f\"File not found: {image_path}\")\n",
    "\n",
    "if __name__ == \"__main__\":\n",
    "    delete_images_from_file(TARGET_DIRECTORY, INPUT_FILE)"
   ],
   "id": "e0ec9d469b59678"
  }
 ],
 "metadata": {
  "kernelspec": {
   "display_name": "Python 3",
   "language": "python",
   "name": "python3"
  },
  "language_info": {
   "codemirror_mode": {
    "name": "ipython",
    "version": 2
   },
   "file_extension": ".py",
   "mimetype": "text/x-python",
   "name": "python",
   "nbconvert_exporter": "python",
   "pygments_lexer": "ipython2",
   "version": "2.7.6"
  }
 },
 "nbformat": 4,
 "nbformat_minor": 5
}
