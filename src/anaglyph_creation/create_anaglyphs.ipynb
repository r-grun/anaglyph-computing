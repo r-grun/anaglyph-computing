{
 "cells": [
  {
   "metadata": {},
   "cell_type": "markdown",
   "source": "# Create anaglyph from stereo image",
   "id": "6459823ddcc1cd6d"
  },
  {
   "cell_type": "code",
   "id": "initial_id",
   "metadata": {
    "collapsed": true,
    "ExecuteTime": {
     "end_time": "2024-05-20T13:35:31.435892Z",
     "start_time": "2024-05-20T13:35:31.431519Z"
    }
   },
   "source": "import cv2 as cv",
   "outputs": [],
   "execution_count": 2
  },
  {
   "metadata": {
    "ExecuteTime": {
     "end_time": "2024-05-20T13:35:31.463742Z",
     "start_time": "2024-05-20T13:35:31.457889Z"
    }
   },
   "cell_type": "code",
   "source": [
    "def split_image(image):\n",
    "    # Get the image shape\n",
    "    height, width, _ = image.shape\n",
    "\n",
    "    # Calculate the middle of the image\n",
    "    middle = width // 2\n",
    "\n",
    "    # Split the image into left and right halves\n",
    "    left_img = image[:, :middle]\n",
    "    right_img = image[:, middle:]\n",
    "\n",
    "    return left_img, right_img"
   ],
   "id": "9aae94ebe9aefa9f",
   "outputs": [],
   "execution_count": 3
  },
  {
   "metadata": {
    "ExecuteTime": {
     "end_time": "2024-05-20T13:35:31.493797Z",
     "start_time": "2024-05-20T13:35:31.487738Z"
    }
   },
   "cell_type": "code",
   "source": [
    "def merge_channels(img_left, img_right):\n",
    "    # Split the images into B,G,R channels\n",
    "    B_left, G_left, R_left = cv.split(img_left)\n",
    "    B_right, G_right, R_right = cv.split(img_right)\n",
    "\n",
    "    # Create a new image with the red channel from 'img_left' and the blue + green channel from 'img_right'\n",
    "    merged_img = cv.merge((B_right, G_right, R_left))\n",
    "\n",
    "    return merged_img"
   ],
   "id": "400c40bff8b76f78",
   "outputs": [],
   "execution_count": 4
  },
  {
   "metadata": {
    "ExecuteTime": {
     "end_time": "2024-05-20T13:36:07.308405Z",
     "start_time": "2024-05-20T13:35:31.503742Z"
    }
   },
   "cell_type": "code",
   "source": [
    "img_input = cv.imread('./test_input.jpg')\n",
    "\n",
    "img_left, img_right = split_image(img_input)\n",
    "\n",
    "img_anaglyph = merge_channels(img_left, img_right)\n",
    "\n",
    "cv.imshow('original', img_input)\n",
    "# cv.imshow('left', img_left)\n",
    "# cv.imshow('right', img_right)\n",
    "cv.imshow('anaglyph', img_anaglyph)\n",
    "\n",
    "\n",
    "while True:\n",
    "    k = cv.waitKey(33)\n",
    "    if k == -1:  # if no key was pressed, -1 is returned\n",
    "        continue\n",
    "    else:\n",
    "        break\n",
    "        \n",
    "cv.destroyAllWindows()"
   ],
   "id": "f767881632bb947c",
   "outputs": [],
   "execution_count": 5
  }
 ],
 "metadata": {
  "kernelspec": {
   "display_name": "Python 3",
   "language": "python",
   "name": "python3"
  },
  "language_info": {
   "codemirror_mode": {
    "name": "ipython",
    "version": 2
   },
   "file_extension": ".py",
   "mimetype": "text/x-python",
   "name": "python",
   "nbconvert_exporter": "python",
   "pygments_lexer": "ipython2",
   "version": "2.7.6"
  }
 },
 "nbformat": 4,
 "nbformat_minor": 5
}
