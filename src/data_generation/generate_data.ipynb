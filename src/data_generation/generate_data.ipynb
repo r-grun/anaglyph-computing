{
 "cells": [
  {
   "metadata": {},
   "cell_type": "markdown",
   "source": [
    "# Generate Data\n",
    "\n",
    "1. Copy stereo images into single folder\n",
    "2. Rotate vertical images, so all images are aligned horizontally\n",
    "3. From 1280 x 720px images, create 5 x 3 single images (l + r image) through windowing + slicing\n",
    "4. Create anaglyph + inverse anaglyph from stereo images (with dame ID, but suffix)\n",
    "5. Split data 70/30 into training and test data"
   ],
   "id": "bd5339a7d3a29441"
  },
  {
   "metadata": {},
   "cell_type": "markdown",
   "source": "## Imports",
   "id": "a707a85c7f0fa7ad"
  },
  {
   "metadata": {
    "ExecuteTime": {
     "end_time": "2024-06-29T09:08:00.977563Z",
     "start_time": "2024-06-29T09:07:59.546155Z"
    }
   },
   "cell_type": "code",
   "source": [
    "import numpy as np\n",
    "import cv2 as cv2\n",
    "import os\n",
    "from sklearn.model_selection import train_test_split\n",
    "import shutil\n",
    "from tqdm import tqdm"
   ],
   "id": "5a4aacd84e5deb37",
   "outputs": [],
   "execution_count": 1
  },
  {
   "metadata": {
    "ExecuteTime": {
     "end_time": "2024-06-29T09:08:00.985530Z",
     "start_time": "2024-06-29T09:08:00.980565Z"
    }
   },
   "cell_type": "code",
   "source": [
    "source_folder = 'E:\\\\Programming\\\\HAW\\\\Grundprojekt\\\\anaglyph-computing\\\\data\\\\holopix50k'\n",
    "# source_folder = 'E:\\\\Programming\\\\HAW\\\\Grundprojekt\\\\anaglyph-computing\\\\data\\\\test_data'\n",
    "anaglyph_folder = 'E:\\\\Programming\\\\HAW\\\\Grundprojekt\\\\anaglyph-computing\\\\data\\\\data\\\\anaglyph'\n",
    "inverse_anaglyph_folder = 'E:\\\\Programming\\\\HAW\\\\Grundprojekt\\\\anaglyph-computing\\\\data\\\\data\\\\inverse_anaglyph'\n",
    "stereo_slice_folder = 'E:\\\\Programming\\\\HAW\\\\Grundprojekt\\\\anaglyph-computing\\\\data\\\\data\\\\stereo'\n",
    "stereo_folder = 'E:\\\\Programming\\\\HAW\\\\Grundprojekt\\\\anaglyph-computing\\\\data\\\\data\\\\stereo_full'"
   ],
   "id": "4bee543b33f59d4d",
   "outputs": [],
   "execution_count": 2
  },
  {
   "metadata": {},
   "cell_type": "markdown",
   "source": "## 2. Rotate images",
   "id": "ce7b86ea2152e0f6"
  },
  {
   "metadata": {
    "ExecuteTime": {
     "end_time": "2024-06-29T09:08:00.998527Z",
     "start_time": "2024-06-29T09:08:00.986527Z"
    }
   },
   "cell_type": "code",
   "source": [
    "def rotate_vertical_image(img):\n",
    "    if img.shape[0] > img.shape[1]:\n",
    "        img = cv2.rotate(img, cv2.ROTATE_90_CLOCKWISE)\n",
    "    return img\n"
   ],
   "id": "c6275c12b08c6e18",
   "outputs": [],
   "execution_count": 3
  },
  {
   "metadata": {},
   "cell_type": "markdown",
   "source": "## 3. Slice images",
   "id": "4a0c9396c4dd2e7a"
  },
  {
   "metadata": {
    "ExecuteTime": {
     "end_time": "2024-06-29T09:08:01.008529Z",
     "start_time": "2024-06-29T09:08:00.999526Z"
    }
   },
   "cell_type": "code",
   "source": [
    "def create_image_chunks(image, num_rows = 3, num_cols = 5, chunk_height = 256, chunk_width = 256, overlap = 24):\n",
    "    chunks = []\n",
    "    for row in range(num_rows):\n",
    "        for col in range(num_cols):\n",
    "            x_start = col * (chunk_width - overlap)\n",
    "            y_start = row * (chunk_height - overlap)\n",
    "            chunks.append(image[y_start:y_start + chunk_height, x_start:x_start + chunk_width])\n",
    "    return chunks"
   ],
   "id": "4b8b1206149582ac",
   "outputs": [],
   "execution_count": 4
  },
  {
   "metadata": {},
   "cell_type": "markdown",
   "source": "## 4. Create Anaglyph",
   "id": "91445d66ac4cfb1a"
  },
  {
   "metadata": {
    "ExecuteTime": {
     "end_time": "2024-06-29T09:08:01.021048Z",
     "start_time": "2024-06-29T09:08:01.010527Z"
    }
   },
   "cell_type": "code",
   "source": [
    "def split_image(image):\n",
    "    # Get the image shape\n",
    "    height, width, _ = image.shape\n",
    "\n",
    "    # Calculate the middle of the image\n",
    "    middle = width // 2\n",
    "\n",
    "    # Split the image into left and right halves\n",
    "    left_img = image[:, :middle]\n",
    "    right_img = image[:, middle:]\n",
    "\n",
    "    return left_img, right_img"
   ],
   "id": "467f4011bbb99301",
   "outputs": [],
   "execution_count": 5
  },
  {
   "metadata": {
    "ExecuteTime": {
     "end_time": "2024-06-29T09:08:01.031323Z",
     "start_time": "2024-06-29T09:08:01.024049Z"
    }
   },
   "cell_type": "code",
   "source": [
    "def merge_channels(img_left, img_right):\n",
    "    # Split the images into B,G,R channels\n",
    "    B_left, G_left, R_left = cv2.split(img_left)\n",
    "    B_right, G_right, R_right = cv2.split(img_right)\n",
    "\n",
    "    # Create a new image with the red channel from 'img_left' and the blue + green channel from 'img_right'\n",
    "    merged_anaglyph = cv2.merge((B_right, G_right, R_left))\n",
    "    merged_inverse_anaglyph = cv2.merge((B_left, G_left, R_right))\n",
    "\n",
    "    return merged_anaglyph, merged_inverse_anaglyph"
   ],
   "id": "10d5814a180f677e",
   "outputs": [],
   "execution_count": 6
  },
  {
   "metadata": {},
   "cell_type": "markdown",
   "source": "## 5. Split data",
   "id": "8c2fe463f9432cbb"
  },
  {
   "metadata": {
    "ExecuteTime": {
     "end_time": "2024-06-29T09:08:01.042912Z",
     "start_time": "2024-06-29T09:08:01.033321Z"
    }
   },
   "cell_type": "code",
   "source": [
    "# X = ...  # Your data (e.g., anaglyphs)\n",
    "# y = ...  # Labels (e.g., image IDs)\n",
    "# \n",
    "# X_train, X_test, y_train, y_test = train_test_split(X, y, test_size=0.3, random_state=42)\n"
   ],
   "id": "cef83fdc9f778626",
   "outputs": [],
   "execution_count": 7
  },
  {
   "metadata": {},
   "cell_type": "markdown",
   "source": "## Run for all",
   "id": "b295440abf8e1a34"
  },
  {
   "metadata": {},
   "cell_type": "markdown",
   "source": "",
   "id": "78f5e8d45ae724d4"
  },
  {
   "metadata": {
    "ExecuteTime": {
     "end_time": "2024-06-29T09:08:01.054848Z",
     "start_time": "2024-06-29T09:08:01.044914Z"
    }
   },
   "cell_type": "code",
   "source": [
    "def process_all_images(source_folder, pbar):\n",
    "     # Initialize a counter\n",
    "    counter = 0\n",
    "    \n",
    "    # Walk through the source directory\n",
    "    for file in os.listdir(source_folder):\n",
    "        # Check if the file is a .png\n",
    "        if file.endswith('.jpg'):\n",
    "            # Create the full file paths\n",
    "            src_file_path = os.path.join(source_folder, file)\n",
    "\n",
    "            # Get image name + ext\n",
    "            base_name, ext = os.path.splitext(file)\n",
    "            \n",
    "            # Read the image\n",
    "            img = cv2.imread(src_file_path)\n",
    "\n",
    "            # Rotate the image if vertical\n",
    "            img = rotate_vertical_image(img)\n",
    "            cv2.imwrite(os.path.join(stereo_folder, base_name + ext), img)\n",
    "            \n",
    "            # Split image\n",
    "            img_left, img_right = split_image(img)\n",
    "            \n",
    "            # Create image slices\n",
    "            img_chunks_left = create_image_chunks(img_left)\n",
    "            img_chunks_right = create_image_chunks(img_right)\n",
    "            \n",
    "            # Create anaglyphs\n",
    "            for i in range(len(img_chunks_left)):\n",
    "                img_anaglyph, img_inverse_anaglyph = merge_channels(img_chunks_left[i], img_chunks_right[i])\n",
    "                cv2.imwrite(os.path.join(stereo_slice_folder, base_name + f'_{i}_left' + ext), img_chunks_left[i])\n",
    "                cv2.imwrite(os.path.join(stereo_slice_folder, base_name + f'_{i}_right' + ext), img_chunks_right[i])\n",
    "                cv2.imwrite(os.path.join(anaglyph_folder, base_name + f'_{i}_anaglyph' + ext), img_anaglyph)\n",
    "                cv2.imwrite(os.path.join(inverse_anaglyph_folder, base_name + f'_{i}_inverseanaglyph' + ext), img_inverse_anaglyph)\n",
    "\n",
    "            # Increment the counter\n",
    "            counter += 1\n",
    "            # Update the progress bar\n",
    "            pbar.update()"
   ],
   "id": "33fab0074efc9291",
   "outputs": [],
   "execution_count": 8
  },
  {
   "metadata": {
    "ExecuteTime": {
     "end_time": "2024-06-29T09:08:03.344699Z",
     "start_time": "2024-06-29T09:08:01.055846Z"
    }
   },
   "cell_type": "code",
   "source": [
    " # Get the total number of .jpg files in the source directory\n",
    "total_files = len([file for file in os.listdir(source_folder) if file.endswith('.jpg')])\n",
    "\n",
    "\n",
    "\n",
    "# Copy the images with a progress bar\n",
    "with tqdm(total=total_files, desc=\"Processing images\", unit=\"file\") as pbar:\n",
    "    process_all_images(source_folder, pbar)"
   ],
   "id": "fc4b66ce017f623c",
   "outputs": [
    {
     "name": "stderr",
     "output_type": "stream",
     "text": [
      "Processing images:   0%|          | 8/49124 [00:01<1:49:00,  7.51file/s]\n"
     ]
    },
    {
     "ename": "ValueError",
     "evalue": "not enough values to unpack (expected 3, got 0)",
     "output_type": "error",
     "traceback": [
      "\u001B[1;31m---------------------------------------------------------------------------\u001B[0m",
      "\u001B[1;31mValueError\u001B[0m                                Traceback (most recent call last)",
      "Cell \u001B[1;32mIn[9], line 6\u001B[0m\n\u001B[0;32m      4\u001B[0m \u001B[38;5;66;03m# Copy the images with a progress bar\u001B[39;00m\n\u001B[0;32m      5\u001B[0m \u001B[38;5;28;01mwith\u001B[39;00m tqdm(total\u001B[38;5;241m=\u001B[39mtotal_files, desc\u001B[38;5;241m=\u001B[39m\u001B[38;5;124m\"\u001B[39m\u001B[38;5;124mProcessing images\u001B[39m\u001B[38;5;124m\"\u001B[39m, unit\u001B[38;5;241m=\u001B[39m\u001B[38;5;124m\"\u001B[39m\u001B[38;5;124mfile\u001B[39m\u001B[38;5;124m\"\u001B[39m) \u001B[38;5;28;01mas\u001B[39;00m pbar:\n\u001B[1;32m----> 6\u001B[0m    process_all_images(source_folder, pbar)\n",
      "Cell \u001B[1;32mIn[8], line 31\u001B[0m, in \u001B[0;36mprocess_all_images\u001B[1;34m(source_folder, pbar)\u001B[0m\n\u001B[0;32m     29\u001B[0m \u001B[38;5;66;03m# Create anaglyphs\u001B[39;00m\n\u001B[0;32m     30\u001B[0m \u001B[38;5;28;01mfor\u001B[39;00m i \u001B[38;5;129;01min\u001B[39;00m \u001B[38;5;28mrange\u001B[39m(\u001B[38;5;28mlen\u001B[39m(img_chunks_left)):\n\u001B[1;32m---> 31\u001B[0m     img_anaglyph, img_inverse_anaglyph \u001B[38;5;241m=\u001B[39m merge_channels(img_chunks_left[i], img_chunks_right[i])\n\u001B[0;32m     32\u001B[0m     cv2\u001B[38;5;241m.\u001B[39mimwrite(os\u001B[38;5;241m.\u001B[39mpath\u001B[38;5;241m.\u001B[39mjoin(stereo_slice_folder, base_name \u001B[38;5;241m+\u001B[39m \u001B[38;5;124mf\u001B[39m\u001B[38;5;124m'\u001B[39m\u001B[38;5;124m_\u001B[39m\u001B[38;5;132;01m{\u001B[39;00mi\u001B[38;5;132;01m}\u001B[39;00m\u001B[38;5;124m_left\u001B[39m\u001B[38;5;124m'\u001B[39m \u001B[38;5;241m+\u001B[39m ext), img_chunks_left[i])\n\u001B[0;32m     33\u001B[0m     cv2\u001B[38;5;241m.\u001B[39mimwrite(os\u001B[38;5;241m.\u001B[39mpath\u001B[38;5;241m.\u001B[39mjoin(stereo_slice_folder, base_name \u001B[38;5;241m+\u001B[39m \u001B[38;5;124mf\u001B[39m\u001B[38;5;124m'\u001B[39m\u001B[38;5;124m_\u001B[39m\u001B[38;5;132;01m{\u001B[39;00mi\u001B[38;5;132;01m}\u001B[39;00m\u001B[38;5;124m_right\u001B[39m\u001B[38;5;124m'\u001B[39m \u001B[38;5;241m+\u001B[39m ext), img_chunks_right[i])\n",
      "Cell \u001B[1;32mIn[6], line 3\u001B[0m, in \u001B[0;36mmerge_channels\u001B[1;34m(img_left, img_right)\u001B[0m\n\u001B[0;32m      1\u001B[0m \u001B[38;5;28;01mdef\u001B[39;00m \u001B[38;5;21mmerge_channels\u001B[39m(img_left, img_right):\n\u001B[0;32m      2\u001B[0m     \u001B[38;5;66;03m# Split the images into B,G,R channels\u001B[39;00m\n\u001B[1;32m----> 3\u001B[0m     B_left, G_left, R_left \u001B[38;5;241m=\u001B[39m cv2\u001B[38;5;241m.\u001B[39msplit(img_left)\n\u001B[0;32m      4\u001B[0m     B_right, G_right, R_right \u001B[38;5;241m=\u001B[39m cv2\u001B[38;5;241m.\u001B[39msplit(img_right)\n\u001B[0;32m      6\u001B[0m     \u001B[38;5;66;03m# Create a new image with the red channel from 'img_left' and the blue + green channel from 'img_right'\u001B[39;00m\n",
      "\u001B[1;31mValueError\u001B[0m: not enough values to unpack (expected 3, got 0)"
     ]
    }
   ],
   "execution_count": 9
  }
 ],
 "metadata": {
  "kernelspec": {
   "display_name": "Python 3",
   "language": "python",
   "name": "python3"
  },
  "language_info": {
   "codemirror_mode": {
    "name": "ipython",
    "version": 2
   },
   "file_extension": ".py",
   "mimetype": "text/x-python",
   "name": "python",
   "nbconvert_exporter": "python",
   "pygments_lexer": "ipython2",
   "version": "2.7.6"
  }
 },
 "nbformat": 4,
 "nbformat_minor": 5
}
