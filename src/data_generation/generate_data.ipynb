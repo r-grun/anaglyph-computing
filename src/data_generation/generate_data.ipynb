{
 "cells": [
  {
   "metadata": {},
   "cell_type": "markdown",
   "source": [
    "# Generate Data\n",
    "\n",
    "1. Copy stereo images into single folder\n",
    "2. Rotate vertical images, so all images are aligned horizontally\n",
    "3. From 1280 x 720px images, create 5 x 3 single images (l + r image) through windowing + slicing\n",
    "4. Create anaglyph + inverse anaglyph from stereo images (with dame ID, but suffix)\n",
    "5. Split data 70/30 into training and test data"
   ],
   "id": "bd5339a7d3a29441"
  },
  {
   "metadata": {},
   "cell_type": "markdown",
   "source": "## Imports",
   "id": "a707a85c7f0fa7ad"
  },
  {
   "metadata": {
    "ExecuteTime": {
     "end_time": "2024-07-01T00:27:11.643924Z",
     "start_time": "2024-07-01T00:27:10.742050Z"
    }
   },
   "cell_type": "code",
   "source": "!pwd",
   "id": "725a69e2d76c1b95",
   "outputs": [
    {
     "name": "stdout",
     "output_type": "stream",
     "text": [
      "/workspace/data/src/data_generation\r\n"
     ]
    }
   ],
   "execution_count": 4
  },
  {
   "metadata": {
    "ExecuteTime": {
     "end_time": "2024-07-01T00:27:49.116605Z",
     "start_time": "2024-07-01T00:27:46.213374Z"
    }
   },
   "cell_type": "code",
   "source": "# !pip install opencv-python",
   "id": "d33502aa1c0a8cd6",
   "outputs": [
    {
     "name": "stdout",
     "output_type": "stream",
     "text": [
      "Requirement already satisfied: opencv-python in /opt/conda/lib/python3.10/site-packages (4.10.0.84)\r\n",
      "Requirement already satisfied: numpy>=1.21.2 in /opt/conda/lib/python3.10/site-packages (from opencv-python) (1.26.4)\r\n",
      "\u001B[33mWARNING: Running pip as the 'root' user can result in broken permissions and conflicting behaviour with the system package manager. It is recommended to use a virtual environment instead: https://pip.pypa.io/warnings/venv\u001B[0m\u001B[33m\r\n",
      "\u001B[0m"
     ]
    }
   ],
   "execution_count": 6
  },
  {
   "metadata": {
    "ExecuteTime": {
     "end_time": "2024-07-01T00:31:01.569501Z",
     "start_time": "2024-07-01T00:30:54.447370Z"
    }
   },
   "cell_type": "code",
   "source": [
    "# !apt update && apt install -y libsm6 libxext6\n",
    "# !apt-get install -y libxrender-dev"
   ],
   "id": "cf16b1b913863078",
   "outputs": [
    {
     "name": "stdout",
     "output_type": "stream",
     "text": [
      "Get:1 http://security.ubuntu.com/ubuntu jammy-security InRelease [129 kB]\r\n",
      "Get:2 http://archive.ubuntu.com/ubuntu jammy InRelease [270 kB]                \u001B[0m\r\n",
      "Get:3 https://developer.download.nvidia.com/compute/cuda/repos/ubuntu2204/x86_64  InRelease [1581 B]\r\n",
      "Get:4 https://developer.download.nvidia.com/compute/cuda/repos/ubuntu2204/x86_64  Packages [929 kB]\r\n",
      "Get:5 http://archive.ubuntu.com/ubuntu jammy-updates InRelease [128 kB]\r\n",
      "Get:6 http://archive.ubuntu.com/ubuntu jammy-backports InRelease [127 kB]3m\r\n",
      "Get:7 http://archive.ubuntu.com/ubuntu jammy/main amd64 Packages [1792 kB][33m\u001B[33m\u001B[33m\r\n",
      "Get:8 http://archive.ubuntu.com/ubuntu jammy/restricted amd64 Packages [164 kB]\r\n",
      "Get:9 http://archive.ubuntu.com/ubuntu jammy/universe amd64 Packages [17.5 MB]\r\n",
      "Get:10 http://archive.ubuntu.com/ubuntu jammy/multiverse amd64 Packages [266 kB]\r\n",
      "Get:11 http://archive.ubuntu.com/ubuntu jammy-backports/universe amd64 Packages [32.2 kB]\r\n",
      "Get:12 http://archive.ubuntu.com/ubuntu jammy-backports/main amd64 Packages [81.0 kB]\r\n",
      "Reading package lists... Donem\u001B[33m                        \u001B[0m\u001B[33m\u001B[33m\u001B[33m\u001B[33m\r\n",
      "\u001B[1;31mE: \u001B[0mRelease file for http://security.ubuntu.com/ubuntu/dists/jammy-security/InRelease is not valid yet (invalid for another 13h 32min 31s). Updates for this repository will not be applied.\u001B[0m\r\n",
      "\u001B[1;31mE: \u001B[0mRelease file for http://archive.ubuntu.com/ubuntu/dists/jammy-updates/InRelease is not valid yet (invalid for another 13h 33min 53s). Updates for this repository will not be applied.\u001B[0m\r\n",
      "Reading package lists... Done\r\n",
      "Building dependency tree... Done\r\n",
      "Reading state information... Done\r\n",
      "The following additional packages will be installed:\r\n",
      "  libbsd0 libmd0 libpthread-stubs0-dev libx11-6 libx11-data libx11-dev\r\n",
      "  libxau-dev libxau6 libxcb1 libxcb1-dev libxdmcp-dev libxdmcp6 libxrender1\r\n",
      "  x11proto-dev xorg-sgml-doctools xtrans-dev\r\n",
      "Suggested packages:\r\n",
      "  libx11-doc libxcb-doc\r\n",
      "The following NEW packages will be installed:\r\n",
      "  libbsd0 libmd0 libpthread-stubs0-dev libx11-6 libx11-data libx11-dev\r\n",
      "  libxau-dev libxau6 libxcb1 libxcb1-dev libxdmcp-dev libxdmcp6 libxrender-dev\r\n",
      "  libxrender1 x11proto-dev xorg-sgml-doctools xtrans-dev\r\n",
      "0 upgraded, 17 newly installed, 0 to remove and 7 not upgraded.\r\n",
      "Need to get 2523 kB of archives.\r\n",
      "After this operation, 9055 kB of additional disk space will be used.\r\n",
      "Get:1 http://archive.ubuntu.com/ubuntu jammy/main amd64 libmd0 amd64 1.0.4-1build1 [23.0 kB]\r\n",
      "Get:2 http://archive.ubuntu.com/ubuntu jammy/main amd64 libbsd0 amd64 0.11.5-1 [44.8 kB]\r\n",
      "Get:3 http://archive.ubuntu.com/ubuntu jammy/main amd64 libxau6 amd64 1:1.0.9-1build5 [7634 B]\r\n",
      "Get:4 http://archive.ubuntu.com/ubuntu jammy/main amd64 libxdmcp6 amd64 1:1.1.3-0ubuntu5 [10.9 kB]\r\n",
      "Get:5 http://archive.ubuntu.com/ubuntu jammy/main amd64 libxcb1 amd64 1.14-3ubuntu3 [49.0 kB]\r\n",
      "Get:6 http://archive.ubuntu.com/ubuntu jammy/main amd64 libx11-data all 2:1.7.5-1 [119 kB]\r\n",
      "Get:7 http://archive.ubuntu.com/ubuntu jammy/main amd64 libx11-6 amd64 2:1.7.5-1 [666 kB]\r\n",
      "Get:8 http://archive.ubuntu.com/ubuntu jammy/main amd64 libpthread-stubs0-dev amd64 0.4-1build2 [5516 B]\r\n",
      "Get:9 http://archive.ubuntu.com/ubuntu jammy/main amd64 xorg-sgml-doctools all 1:1.11-1.1 [10.9 kB]\r\n",
      "Get:10 http://archive.ubuntu.com/ubuntu jammy/main amd64 x11proto-dev all 2021.5-1 [604 kB]\r\n",
      "Get:11 http://archive.ubuntu.com/ubuntu jammy/main amd64 libxau-dev amd64 1:1.0.9-1build5 [9724 B]\r\n",
      "Get:12 http://archive.ubuntu.com/ubuntu jammy/main amd64 libxdmcp-dev amd64 1:1.1.3-0ubuntu5 [26.5 kB]\r\n",
      "Get:13 http://archive.ubuntu.com/ubuntu jammy/main amd64 xtrans-dev all 1.4.0-1 [68.9 kB]\r\n",
      "Get:14 http://archive.ubuntu.com/ubuntu jammy/main amd64 libxcb1-dev amd64 1.14-3ubuntu3 [86.5 kB]\r\n",
      "Get:15 http://archive.ubuntu.com/ubuntu jammy/main amd64 libx11-dev amd64 2:1.7.5-1 [744 kB]\r\n",
      "Get:16 http://archive.ubuntu.com/ubuntu jammy/main amd64 libxrender1 amd64 1:0.9.10-1build4 [19.7 kB]\r\n",
      "Get:17 http://archive.ubuntu.com/ubuntu jammy/main amd64 libxrender-dev amd64 1:0.9.10-1build4 [26.7 kB]\r\n",
      "Fetched 2523 kB in 1s (2499 kB/s)         \r\n",
      "debconf: delaying package configuration, since apt-utils is not installed\r\n",
      "Selecting previously unselected package libmd0:amd64.\r\n",
      "(Reading database ... 14428 files and directories currently installed.)\r\n",
      "Preparing to unpack .../00-libmd0_1.0.4-1build1_amd64.deb ...\r\n",
      "Unpacking libmd0:amd64 (1.0.4-1build1) ...\r\n",
      "Selecting previously unselected package libbsd0:amd64.\r\n",
      "Preparing to unpack .../01-libbsd0_0.11.5-1_amd64.deb ...\r\n",
      "Unpacking libbsd0:amd64 (0.11.5-1) ...\r\n",
      "Selecting previously unselected package libxau6:amd64.\r\n",
      "Preparing to unpack .../02-libxau6_1%3a1.0.9-1build5_amd64.deb ...\r\n",
      "Unpacking libxau6:amd64 (1:1.0.9-1build5) ...\r\n",
      "Selecting previously unselected package libxdmcp6:amd64.\r\n",
      "Preparing to unpack .../03-libxdmcp6_1%3a1.1.3-0ubuntu5_amd64.deb ...\r\n",
      "Unpacking libxdmcp6:amd64 (1:1.1.3-0ubuntu5) ...\r\n",
      "Selecting previously unselected package libxcb1:amd64.\r\n",
      "Preparing to unpack .../04-libxcb1_1.14-3ubuntu3_amd64.deb ...\r\n",
      "Unpacking libxcb1:amd64 (1.14-3ubuntu3) ...\r\n",
      "Selecting previously unselected package libx11-data.\r\n",
      "Preparing to unpack .../05-libx11-data_2%3a1.7.5-1_all.deb ...\r\n",
      "Unpacking libx11-data (2:1.7.5-1) ...\r\n",
      "Selecting previously unselected package libx11-6:amd64.\r\n",
      "Preparing to unpack .../06-libx11-6_2%3a1.7.5-1_amd64.deb ...\r\n",
      "Unpacking libx11-6:amd64 (2:1.7.5-1) ...\r\n",
      "Selecting previously unselected package libpthread-stubs0-dev:amd64.\r\n",
      "Preparing to unpack .../07-libpthread-stubs0-dev_0.4-1build2_amd64.deb ...\r\n",
      "Unpacking libpthread-stubs0-dev:amd64 (0.4-1build2) ...\r\n",
      "Selecting previously unselected package xorg-sgml-doctools.\r\n",
      "Preparing to unpack .../08-xorg-sgml-doctools_1%3a1.11-1.1_all.deb ...\r\n",
      "Unpacking xorg-sgml-doctools (1:1.11-1.1) ...\r\n",
      "Selecting previously unselected package x11proto-dev.\r\n",
      "Preparing to unpack .../09-x11proto-dev_2021.5-1_all.deb ...\r\n",
      "Unpacking x11proto-dev (2021.5-1) ...\r\n",
      "Selecting previously unselected package libxau-dev:amd64.\r\n",
      "Preparing to unpack .../10-libxau-dev_1%3a1.0.9-1build5_amd64.deb ...\r\n",
      "Unpacking libxau-dev:amd64 (1:1.0.9-1build5) ...\r\n",
      "Selecting previously unselected package libxdmcp-dev:amd64.\r\n",
      "Preparing to unpack .../11-libxdmcp-dev_1%3a1.1.3-0ubuntu5_amd64.deb ...\r\n",
      "Unpacking libxdmcp-dev:amd64 (1:1.1.3-0ubuntu5) ...\r\n",
      "Selecting previously unselected package xtrans-dev.\r\n",
      "Preparing to unpack .../12-xtrans-dev_1.4.0-1_all.deb ...\r\n",
      "Unpacking xtrans-dev (1.4.0-1) ...\r\n",
      "Selecting previously unselected package libxcb1-dev:amd64.\r\n",
      "Preparing to unpack .../13-libxcb1-dev_1.14-3ubuntu3_amd64.deb ...\r\n",
      "Unpacking libxcb1-dev:amd64 (1.14-3ubuntu3) ...\r\n",
      "Selecting previously unselected package libx11-dev:amd64.\r\n",
      "Preparing to unpack .../14-libx11-dev_2%3a1.7.5-1_amd64.deb ...\r\n",
      "Unpacking libx11-dev:amd64 (2:1.7.5-1) ...\r\n",
      "Selecting previously unselected package libxrender1:amd64.\r\n",
      "Preparing to unpack .../15-libxrender1_1%3a0.9.10-1build4_amd64.deb ...\r\n",
      "Unpacking libxrender1:amd64 (1:0.9.10-1build4) ...\r\n",
      "Selecting previously unselected package libxrender-dev:amd64.\r\n",
      "Preparing to unpack .../16-libxrender-dev_1%3a0.9.10-1build4_amd64.deb ...\r\n",
      "Unpacking libxrender-dev:amd64 (1:0.9.10-1build4) ...\r\n",
      "Setting up libxau6:amd64 (1:1.0.9-1build5) ...\r\n",
      "Setting up libpthread-stubs0-dev:amd64 (0.4-1build2) ...\r\n",
      "Setting up xtrans-dev (1.4.0-1) ...\r\n",
      "Setting up libx11-data (2:1.7.5-1) ...\r\n",
      "Setting up libmd0:amd64 (1.0.4-1build1) ...\r\n",
      "Setting up xorg-sgml-doctools (1:1.11-1.1) ...\r\n",
      "Setting up libbsd0:amd64 (0.11.5-1) ...\r\n",
      "Setting up x11proto-dev (2021.5-1) ...\r\n",
      "Setting up libxdmcp6:amd64 (1:1.1.3-0ubuntu5) ...\r\n",
      "Setting up libxcb1:amd64 (1.14-3ubuntu3) ...\r\n",
      "Setting up libxau-dev:amd64 (1:1.0.9-1build5) ...\r\n",
      "Setting up libxdmcp-dev:amd64 (1:1.1.3-0ubuntu5) ...\r\n",
      "Setting up libx11-6:amd64 (2:1.7.5-1) ...\r\n",
      "Setting up libxcb1-dev:amd64 (1.14-3ubuntu3) ...\r\n",
      "Setting up libxrender1:amd64 (1:0.9.10-1build4) ...\r\n",
      "Setting up libx11-dev:amd64 (2:1.7.5-1) ...\r\n",
      "Setting up libxrender-dev:amd64 (1:0.9.10-1build4) ...\r\n",
      "Processing triggers for libc-bin (2.35-0ubuntu3.4) ...\r\n"
     ]
    }
   ],
   "execution_count": 9
  },
  {
   "metadata": {
    "jupyter": {
     "is_executing": true
    }
   },
   "cell_type": "code",
   "source": "# !apt-get install libsm6 libxrender1 libfontconfig1",
   "id": "8a5a40bfa0ca05cf",
   "outputs": [],
   "execution_count": null
  },
  {
   "metadata": {
    "ExecuteTime": {
     "end_time": "2024-07-06T15:48:20.634140Z",
     "start_time": "2024-07-06T15:48:17.882364Z"
    }
   },
   "cell_type": "code",
   "source": [
    "import numpy as np\n",
    "import cv2 as cv2\n",
    "import os\n",
    "from sklearn.model_selection import train_test_split\n",
    "import shutil\n",
    "from tqdm import tqdm"
   ],
   "id": "5a4aacd84e5deb37",
   "outputs": [],
   "execution_count": 2
  },
  {
   "metadata": {
    "ExecuteTime": {
     "end_time": "2024-07-01T17:25:35.616474Z",
     "start_time": "2024-07-01T17:25:35.611295Z"
    }
   },
   "cell_type": "code",
   "source": [
    "source_folder = 'E:\\\\Programming\\\\HAW\\\\Grundprojekt\\\\anaglyph-computing\\\\data\\\\holopix50k'\n",
    "# source_folder = 'E:\\\\Programming\\\\HAW\\\\Grundprojekt\\\\anaglyph-computing\\\\data\\\\test_data'\n",
    "anaglyph_folder = 'E:\\\\Programming\\\\HAW\\\\Grundprojekt\\\\anaglyph-computing\\\\data\\\\data\\\\anaglyph'\n",
    "inverse_anaglyph_folder = 'E:\\\\Programming\\\\HAW\\\\Grundprojekt\\\\anaglyph-computing\\\\data\\\\data\\\\inverse_anaglyph'\n",
    "stereo_slice_folder = 'E:\\\\Programming\\\\HAW\\\\Grundprojekt\\\\anaglyph-computing\\\\data\\\\data\\\\stereo'\n",
    "stereo_folder = 'E:\\\\Programming\\\\HAW\\\\Grundprojekt\\\\anaglyph-computing\\\\data\\\\data\\\\stereo_full'"
   ],
   "id": "4bee543b33f59d4d",
   "outputs": [],
   "execution_count": 2
  },
  {
   "metadata": {
    "ExecuteTime": {
     "end_time": "2024-07-01T16:37:36.185471Z",
     "start_time": "2024-07-01T16:30:55.195173Z"
    }
   },
   "cell_type": "code",
   "source": [
    "# from PIL import Image\n",
    "# \n",
    "# def get_unique_image_dimensions(folder_path):\n",
    "#     image_sizes = set()  # Use a set to store unique image sizes\n",
    "#     image_files = [filename for filename in os.listdir(folder_path) if filename.lower().endswith(('.jpg'))]\n",
    "# \n",
    "#     # Create a tqdm progress bar\n",
    "#     with tqdm(total=len(image_files), desc=\"Processing images\") as pbar:\n",
    "#         for filename in image_files:\n",
    "#             image_path = os.path.join(folder_path, filename)\n",
    "#             try:\n",
    "#                 img = Image.open(image_path)\n",
    "#                 width, height = img.size\n",
    "#                 image_sizes.add((width, height))  # Add the size as a tuple to the set\n",
    "#             except Exception as e:\n",
    "#                 print(f\"Error processing '{filename}': {e}\")\n",
    "#             pbar.update(1)  # Update the progress bar\n",
    "# \n",
    "#     # Print the unique image sizes\n",
    "#     for size in image_sizes:\n",
    "#         print(f\"Distinct image size: Width = {size[0]}, Height = {size[1]}\")\n",
    "# \n",
    "# # Example usage:\n",
    "# get_unique_image_dimensions(source_folder)"
   ],
   "id": "e6ee25d6ab39a5de",
   "outputs": [
    {
     "name": "stderr",
     "output_type": "stream",
     "text": [
      "Processing images: 100%|██████████| 49124/49124 [06:40<00:00, 122.52it/s]"
     ]
    },
    {
     "name": "stdout",
     "output_type": "stream",
     "text": [
      "Distinct image size: Width = 1280, Height = 360\n",
      "Distinct image size: Width = 720, Height = 640\n",
      "Distinct image size: Width = 1440, Height = 1280\n",
      "Distinct image size: Width = 2560, Height = 720\n"
     ]
    },
    {
     "name": "stderr",
     "output_type": "stream",
     "text": [
      "\n"
     ]
    }
   ],
   "execution_count": 6
  },
  {
   "metadata": {},
   "cell_type": "markdown",
   "source": "## 2. Rotate images",
   "id": "ce7b86ea2152e0f6"
  },
  {
   "metadata": {
    "ExecuteTime": {
     "end_time": "2024-07-01T16:39:27.128867Z",
     "start_time": "2024-07-01T16:39:27.124156Z"
    }
   },
   "cell_type": "code",
   "source": [
    "def rotate_vertical_image(img):\n",
    "    if img.shape[0] > img.shape[1]:\n",
    "        img = cv2.rotate(img, cv2.ROTATE_90_CLOCKWISE)\n",
    "    return img\n"
   ],
   "id": "c6275c12b08c6e18",
   "outputs": [],
   "execution_count": 12
  },
  {
   "metadata": {},
   "cell_type": "markdown",
   "source": "## 3. Slice images",
   "id": "4a0c9396c4dd2e7a"
  },
  {
   "metadata": {
    "ExecuteTime": {
     "end_time": "2024-07-01T16:52:43.952760Z",
     "start_time": "2024-07-01T16:52:43.947068Z"
    }
   },
   "cell_type": "code",
   "source": "# print (320//256)",
   "id": "b497ede392c9ccba",
   "outputs": [
    {
     "name": "stdout",
     "output_type": "stream",
     "text": [
      "1\n"
     ]
    }
   ],
   "execution_count": 34
  },
  {
   "metadata": {
    "ExecuteTime": {
     "end_time": "2024-07-01T16:57:31.669388Z",
     "start_time": "2024-07-01T16:57:31.659145Z"
    }
   },
   "cell_type": "code",
   "source": [
    "def create_image_chunks(image):\n",
    "    img_height, img_width = image.shape[:2]  # Get image dimensions\n",
    "\n",
    "    # Calculate chunk dimensions\n",
    "    chunk_height = 256\n",
    "    chunk_width = 256\n",
    "\n",
    "    num_rows = (img_height // chunk_height) + 1\n",
    "    num_cols = (img_width // chunk_width) + 1\n",
    "\n",
    "    # Calculate overlap\n",
    "    overlap_y = (img_height - num_rows * chunk_height) // num_rows\n",
    "    overlap_x = (img_width - num_cols * chunk_width) // num_cols\n",
    "\n",
    "    chunks = []\n",
    "    for row in range(num_rows):\n",
    "        for col in range(num_cols):\n",
    "            y_start = row * (chunk_height - overlap_y)\n",
    "            x_start = col * (chunk_width - overlap_x)\n",
    "            y_end = min(y_start + chunk_height, img_height)\n",
    "            x_end = min(x_start + chunk_width, img_width)\n",
    "\n",
    "            # Only add chunks that meet the specified dimensions\n",
    "            if y_end - y_start == chunk_height and x_end - x_start == chunk_width:\n",
    "                chunks.append(image[y_start:y_end, x_start:x_end])\n",
    "\n",
    "    return chunks"
   ],
   "id": "4b8b1206149582ac",
   "outputs": [],
   "execution_count": 39
  },
  {
   "metadata": {},
   "cell_type": "markdown",
   "source": "## 4. Create Anaglyph",
   "id": "91445d66ac4cfb1a"
  },
  {
   "metadata": {
    "ExecuteTime": {
     "end_time": "2024-07-01T16:43:12.641936Z",
     "start_time": "2024-07-01T16:43:12.636332Z"
    }
   },
   "cell_type": "code",
   "source": [
    "def split_image(image):\n",
    "    # Get the image shape\n",
    "    height, width, _ = image.shape\n",
    "    \n",
    "    # Calculate the middle of the image\n",
    "    middle = width // 2\n",
    "\n",
    "    # Split the image into left and right halves\n",
    "    left_img = image[:, :middle]\n",
    "    right_img = image[:, middle:]\n",
    "\n",
    "    return left_img, right_img"
   ],
   "id": "467f4011bbb99301",
   "outputs": [],
   "execution_count": 25
  },
  {
   "metadata": {
    "ExecuteTime": {
     "end_time": "2024-07-01T16:44:50.251021Z",
     "start_time": "2024-07-01T16:44:50.245486Z"
    }
   },
   "cell_type": "code",
   "source": [
    "def merge_channels(img_left, img_right):\n",
    "    # Split the images into B,G,R channels\n",
    "    print(img_left.shape, img_right.shape)\n",
    "    B_left, G_left, R_left = cv2.split(img_left)\n",
    "    B_right, G_right, R_right = cv2.split(img_right)\n",
    "\n",
    "    # Create a new image with the red channel from 'img_left' and the blue + green channel from 'img_right'\n",
    "    merged_anaglyph = cv2.merge((B_right, G_right, R_left))\n",
    "    merged_inverse_anaglyph = cv2.merge((B_left, G_left, R_right))\n",
    "\n",
    "    return merged_anaglyph, merged_inverse_anaglyph"
   ],
   "id": "10d5814a180f677e",
   "outputs": [],
   "execution_count": 27
  },
  {
   "metadata": {},
   "cell_type": "markdown",
   "source": "## Run for all",
   "id": "b295440abf8e1a34"
  },
  {
   "metadata": {
    "ExecuteTime": {
     "end_time": "2024-07-01T16:39:33.790520Z",
     "start_time": "2024-07-01T16:39:33.780921Z"
    }
   },
   "cell_type": "code",
   "source": [
    "def process_all_images(source_folder, pbar):\n",
    "     # Initialize a counter\n",
    "    counter = 0\n",
    "    \n",
    "    # Walk through the source directory\n",
    "    for file in os.listdir(source_folder):\n",
    "        # Check if the file is a .jpg\n",
    "        if file.endswith('.jpg'):\n",
    "            # Create the full file paths\n",
    "            src_file_path = os.path.join(source_folder, file)\n",
    "\n",
    "            # Get image name + ext\n",
    "            base_name, ext = os.path.splitext(file)\n",
    "            \n",
    "            # Read the image\n",
    "            img = cv2.imread(src_file_path)\n",
    "\n",
    "            # Rotate the image if vertical\n",
    "            img = rotate_vertical_image(img)\n",
    "            cv2.imwrite(os.path.join(stereo_folder, base_name + ext), img)\n",
    "            \n",
    "            # Split image\n",
    "            img_left, img_right = split_image(img)\n",
    "            \n",
    "            # Create image slices\n",
    "            img_chunks_left = create_image_chunks(img_left)\n",
    "            img_chunks_right = create_image_chunks(img_right)\n",
    "            \n",
    "            # Create anaglyphs\n",
    "            for i in range(len(img_chunks_left)):\n",
    "                img_anaglyph, img_inverse_anaglyph = merge_channels(img_chunks_left[i], img_chunks_right[i])\n",
    "                cv2.imwrite(os.path.join(stereo_slice_folder, base_name + f'_{i}_left' + ext), img_chunks_left[i])\n",
    "                cv2.imwrite(os.path.join(stereo_slice_folder, base_name + f'_{i}_right' + ext), img_chunks_right[i])\n",
    "                cv2.imwrite(os.path.join(anaglyph_folder, base_name + f'_{i}_anaglyph' + ext), img_anaglyph)\n",
    "                cv2.imwrite(os.path.join(inverse_anaglyph_folder, base_name + f'_{i}_inverseanaglyph' + ext), img_inverse_anaglyph)\n",
    "\n",
    "            # Increment the counter\n",
    "            counter += 1\n",
    "            # Update the progress bar\n",
    "            pbar.update()"
   ],
   "id": "33fab0074efc9291",
   "outputs": [],
   "execution_count": 16
  },
  {
   "metadata": {
    "ExecuteTime": {
     "end_time": "2024-07-01T16:57:58.448796Z",
     "start_time": "2024-07-01T16:57:58.419005Z"
    }
   },
   "cell_type": "code",
   "source": [
    " # Get the total number of .jpg files in the source directory\n",
    "total_files = len([file for file in os.listdir(source_folder) if file.endswith('.jpg')])\n",
    "\n",
    "\n",
    "\n",
    "# Copy the images with a progress bar\n",
    "with tqdm(total=total_files, desc=\"Processing images\", unit=\"file\") as pbar:\n",
    "    process_all_images(source_folder, pbar)"
   ],
   "id": "fc4b66ce017f623c",
   "outputs": [
    {
     "name": "stderr",
     "output_type": "stream",
     "text": [
      "Processing images: 100%|██████████| 1/1 [00:00<00:00, 43.48file/s]"
     ]
    },
    {
     "name": "stdout",
     "output_type": "stream",
     "text": [
      "360\n",
      "1280\n",
      "(256, 256, 3) (256, 256, 3)\n",
      "(256, 256, 3) (256, 256, 3)\n"
     ]
    },
    {
     "name": "stderr",
     "output_type": "stream",
     "text": [
      "\n"
     ]
    }
   ],
   "execution_count": 41
  },
  {
   "metadata": {},
   "cell_type": "markdown",
   "source": "## Generate train and test data files",
   "id": "a812aa1b8e67d004"
  },
  {
   "metadata": {
    "ExecuteTime": {
     "end_time": "2024-07-01T17:27:08.974543Z",
     "start_time": "2024-07-01T17:27:08.969694Z"
    }
   },
   "cell_type": "code",
   "source": [
    "train_data_file_path = 'E:\\\\Programming\\\\HAW\\\\Grundprojekt\\\\anaglyph-computing\\\\data\\\\train.txt'\n",
    "test_data_file_path = 'E:\\\\Programming\\\\HAW\\\\Grundprojekt\\\\anaglyph-computing\\\\data\\\\test.txt'"
   ],
   "id": "11f48d95e05e6188",
   "outputs": [],
   "execution_count": 4
  },
  {
   "metadata": {
    "ExecuteTime": {
     "end_time": "2024-07-01T17:27:10.323707Z",
     "start_time": "2024-07-01T17:27:10.316316Z"
    }
   },
   "cell_type": "code",
   "source": [
    "def split_images_to_train_test(image_directory, train_ratio=0.7):\n",
    "    # Get a list of all image filenames in the directory\n",
    "    image_files = [filename for filename in os.listdir(image_directory) if filename.lower().endswith('.jpg')]\n",
    "\n",
    "    # Split the filenames into train and test sets\n",
    "    train_files, test_files = train_test_split(image_files, test_size=1 - train_ratio, random_state=42)\n",
    "\n",
    "    # Save the filenames to text files\n",
    "    with open(train_data_file_path, 'w') as train_file:\n",
    "        for filename in tqdm(train_files, desc=\"Saving training files\"):\n",
    "            train_file.write(filename + '\\n')\n",
    "    with open(test_data_file_path, 'w') as test_file:\n",
    "        for filename in tqdm(test_files, desc=\"Saving test files\"):\n",
    "            test_file.write(filename + '\\n')\n",
    "\n",
    "    print(f\"Saved {len(train_files)} training files and {len(test_files)} test files.\")"
   ],
   "id": "bebeb816279bb974",
   "outputs": [],
   "execution_count": 5
  },
  {
   "metadata": {
    "ExecuteTime": {
     "end_time": "2024-07-01T17:27:12.607870Z",
     "start_time": "2024-07-01T17:27:12.395082Z"
    }
   },
   "cell_type": "code",
   "source": "split_images_to_train_test(source_folder)",
   "id": "434b94e902c67831",
   "outputs": [
    {
     "name": "stderr",
     "output_type": "stream",
     "text": [
      "Saving training files: 100%|██████████| 34386/34386 [00:00<00:00, 464679.41it/s]\n",
      "Saving test files: 100%|██████████| 14738/14738 [00:00<00:00, 446570.67it/s]"
     ]
    },
    {
     "name": "stdout",
     "output_type": "stream",
     "text": [
      "Saved 34386 training files and 14738 test files.\n"
     ]
    },
    {
     "name": "stderr",
     "output_type": "stream",
     "text": [
      "\n"
     ]
    }
   ],
   "execution_count": 6
  },
  {
   "metadata": {},
   "cell_type": "markdown",
   "source": "## Remove suffixes",
   "id": "547cb3b4f961bccb"
  },
  {
   "metadata": {
    "ExecuteTime": {
     "end_time": "2024-07-06T15:49:57.025672Z",
     "start_time": "2024-07-06T15:49:57.020183Z"
    }
   },
   "cell_type": "code",
   "source": [
    "def remove_suffixes(source_folder, type_string, pbar):\n",
    "\n",
    "    # Walk through the source directory\n",
    "    for file in os.listdir(source_folder):\n",
    "        if file.endswith('.jpg'):\n",
    "            # Get image name + ext\n",
    "            base_name, ext = os.path.splitext(file)\n",
    "            suffix_length = len(type_string)\n",
    "            base_name_trimmed = base_name[:-suffix_length]\n",
    "\n",
    "            # rename\n",
    "            os.rename(os.path.join(source_folder, base_name + ext), os.path.join(source_folder, base_name_trimmed + ext))\n",
    "\n",
    "            # Update the progress bar\n",
    "            pbar.update()"
   ],
   "id": "1e1dad0366f33a9",
   "outputs": [],
   "execution_count": 6
  },
  {
   "metadata": {
    "ExecuteTime": {
     "end_time": "2024-07-06T15:49:58.955739Z",
     "start_time": "2024-07-06T15:49:58.937048Z"
    }
   },
   "cell_type": "code",
   "source": [
    "parent_folder  = 'E:\\\\Programming\\\\HAW\\\\Grundprojekt\\\\anaglyph-computing\\\\data\\\\data'\n",
    "anaglyph_folder = os.path.join(parent_folder, 'anaglyph')\n",
    "inverse_anaglyph_folder = os.path.join(parent_folder, 'inverse_anaglyph')\n",
    "\n",
    "\n",
    "\n",
    " # Get the total number of .jpg files in the source directory\n",
    "total_files = len([file for file in os.listdir(os.path.join(parent_folder, 'anaglyph')) if file.endswith('.jpg')])\n",
    "\n",
    "# Copy the images with a progress bar\n",
    "with tqdm(total=total_files * 2, desc=\"Processing images\", unit=\"file\") as pbar:\n",
    "    remove_suffixes(anaglyph_folder, '_anaglyph', pbar)\n",
    "    remove_suffixes(inverse_anaglyph_folder, '_inverseanaglyph', pbar)"
   ],
   "id": "a6cf5609799fd8a4",
   "outputs": [
    {
     "name": "stderr",
     "output_type": "stream",
     "text": [
      "Processing images: 100%|██████████| 4/4 [00:00<00:00, 1332.79file/s]\n"
     ]
    }
   ],
   "execution_count": 7
  },
  {
   "metadata": {},
   "cell_type": "markdown",
   "source": "## Concat anaglyph and inverse anaglyph",
   "id": "4a0d809d02a9b8fd"
  },
  {
   "metadata": {
    "ExecuteTime": {
     "end_time": "2024-07-06T18:00:09.135961Z",
     "start_time": "2024-07-06T18:00:09.036759Z"
    }
   },
   "cell_type": "code",
   "source": [
    "from PIL import Image\n",
    "\n",
    "im = Image.open('E:\\\\Programming\\\\HAW\\\\Grundprojekt\\\\anaglyph-computing\\\\data\\\\data\\\\anaglyph\\\\-LQzyFvfDr0ujcfCR5Vq_0.jpg')"
   ],
   "id": "4fe17e755b49b556",
   "outputs": [],
   "execution_count": 1
  },
  {
   "metadata": {
    "ExecuteTime": {
     "end_time": "2024-07-06T18:03:57.648108Z",
     "start_time": "2024-07-06T18:03:57.617922Z"
    }
   },
   "cell_type": "code",
   "source": [
    "from torch.utils.data import Dataset\n",
    "from torchvision.transforms import transforms\n",
    "to_tensor = transforms.ToTensor()\n",
    "\n",
    "im = to_tensor(im).numpy()"
   ],
   "id": "e87e6118f1ababf8",
   "outputs": [],
   "execution_count": 9
  },
  {
   "metadata": {
    "ExecuteTime": {
     "end_time": "2024-07-06T18:03:59.430497Z",
     "start_time": "2024-07-06T18:03:59.422497Z"
    }
   },
   "cell_type": "code",
   "source": "im.shape[0]",
   "id": "2fdc9195576b6f6c",
   "outputs": [
    {
     "data": {
      "text/plain": [
       "3"
      ]
     },
     "execution_count": 10,
     "metadata": {},
     "output_type": "execute_result"
    }
   ],
   "execution_count": 10
  }
 ],
 "metadata": {
  "kernelspec": {
   "display_name": "Python 3",
   "language": "python",
   "name": "python3"
  },
  "language_info": {
   "codemirror_mode": {
    "name": "ipython",
    "version": 2
   },
   "file_extension": ".py",
   "mimetype": "text/x-python",
   "name": "python",
   "nbconvert_exporter": "python",
   "pygments_lexer": "ipython2",
   "version": "2.7.6"
  }
 },
 "nbformat": 4,
 "nbformat_minor": 5
}
